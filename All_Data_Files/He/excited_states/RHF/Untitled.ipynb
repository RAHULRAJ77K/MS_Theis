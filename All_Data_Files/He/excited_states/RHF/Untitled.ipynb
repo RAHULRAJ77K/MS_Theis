{
 "cells": [
  {
   "cell_type": "code",
   "execution_count": 1,
   "id": "a9c9d948",
   "metadata": {},
   "outputs": [
    {
     "ename": "NameError",
     "evalue": "name 'v' is not defined",
     "output_type": "error",
     "traceback": [
      "\u001b[0;31m---------------------------------------------------------------------------\u001b[0m",
      "\u001b[0;31mNameError\u001b[0m                                 Traceback (most recent call last)",
      "\u001b[0;32m<ipython-input-1-d4b9dc4b1476>\u001b[0m in \u001b[0;36m<module>\u001b[0;34m\u001b[0m\n\u001b[1;32m     22\u001b[0m \u001b[0;34m\u001b[0m\u001b[0m\n\u001b[1;32m     23\u001b[0m \u001b[0;31m#print(v,u)\u001b[0m\u001b[0;34m\u001b[0m\u001b[0;34m\u001b[0m\u001b[0;34m\u001b[0m\u001b[0m\n\u001b[0;32m---> 24\u001b[0;31m     \u001b[0mL\u001b[0m\u001b[0;34m=\u001b[0m\u001b[0mv\u001b[0m\u001b[0;34m.\u001b[0m\u001b[0msplit\u001b[0m\u001b[0;34m(\u001b[0m\u001b[0;34m)\u001b[0m\u001b[0;34m\u001b[0m\u001b[0;34m\u001b[0m\u001b[0m\n\u001b[0m\u001b[1;32m     25\u001b[0m     \u001b[0mV\u001b[0m\u001b[0;34m=\u001b[0m\u001b[0mu\u001b[0m\u001b[0;34m.\u001b[0m\u001b[0msplit\u001b[0m\u001b[0;34m(\u001b[0m\u001b[0;34m)\u001b[0m\u001b[0;34m\u001b[0m\u001b[0;34m\u001b[0m\u001b[0m\n\u001b[1;32m     26\u001b[0m     \u001b[0;31m#print(L)\u001b[0m\u001b[0;34m\u001b[0m\u001b[0;34m\u001b[0m\u001b[0;34m\u001b[0m\u001b[0m\n",
      "\u001b[0;31mNameError\u001b[0m: name 'v' is not defined"
     ]
    }
   ],
   "source": [
    "import numpy as np\n",
    "for i in range(0,10):\n",
    "    l=\"file_x\"+str(i)+\".out\"\n",
    "    g=open(l,'r')\n",
    "    n1=open(\"X_arrayLEnth\"+str(i)+\".txt\",\"a+\")\n",
    "    n2=open(\"X_arrayVeloc\"+str(i)+\".txt\",\"a+\")\n",
    "    with g as line:\n",
    "        p=line.readlines()\n",
    "    #print (type(p))\n",
    "    #print(p)\n",
    "   #l=input(\"filename:: \")\n",
    "   \n",
    "    j=0\n",
    "    for i in p:\n",
    "        j=j+1\n",
    "        if i=='(RSP) Electric Dipole Oscillator Strength\\n':\n",
    "        #print(i)\n",
    "            v=p[j]\n",
    "            u=p[j+1]\n",
    "        #print(p[j])\n",
    "        #print(p[j+1])  \n",
    "        \n",
    "#print(v,u)\n",
    "    L=v.split()\n",
    "    V=u.split()\n",
    "    #print(L)\n",
    "\n",
    "#print(V[2])\n",
    "\n",
    "    l1=L[2::]\n",
    "    v1=V[2::]\n",
    "   # print(l1,v1)\n",
    "\n",
    "\n",
    "\n",
    "    c1=[]\n",
    "    c2=[]\n",
    "    for a in l1:\n",
    "            c1.append(float(a))\n",
    "    for b in v1:\n",
    "            c2.append(float(b))        \n",
    "    #print(c1)        \n",
    "\n",
    "    a1=np.array(c1)\n",
    "    a2=np.array(c2)\n",
    "    #filename=input(\"filename is :=  \")\n",
    "    #can change the file name according to the magnetic field directions\n",
    "    \n",
    "\n",
    "    #writting to file only with energy values\n",
    "    np.savetxt(n1,a1,newline=\"\\n\")\n",
    "    np.savetxt(n2,a2,newline=\"\\n\")\n",
    "\n",
    "    n1.close()\n",
    "    n2.close()\n",
    "    g.close()"
   ]
  },
  {
   "cell_type": "code",
   "execution_count": 23,
   "id": "a16a7358",
   "metadata": {},
   "outputs": [],
   "source": [
    "import numpy as np\n",
    "for i in range(0,11):\n",
    "    l=\"file_x\"+str(i)+\".out\"\n",
    "    g=open(l,'r')\n",
    "    n1=open(\"X_arrayLEnth\"+str(i)+\".txt\",\"a+\")\n",
    "    n2=open(\"X_arrayVeloc\"+str(i)+\".txt\",\"a+\")\n",
    "    with g as line:\n",
    "        p=line.readlines()\n",
    "        \n",
    "    j=0\n",
    "    for i in p:\n",
    "        j=j+1\n",
    "        if i=='(RSP) Electric Dipole Oscillator Strength\\n':\n",
    "            v=p[j]\n",
    "            u=p[j+1]\n",
    "            L=v.split()\n",
    "            V=u.split()    \n",
    "            #print(L)    \n",
    "            l1=L[2::]\n",
    "            v1=V[2::]\n",
    "            #print(l1)\n",
    "            c1=[]\n",
    "            c2=[]\n",
    "            for a in l1:\n",
    "                c1.append(float(a))\n",
    "            for b in v1:\n",
    "                c2.append(float(b)) \n",
    "            #print(c1)\n",
    "            a1=np.array(c1)\n",
    "            a2=np.array(c2)\n",
    "            np.savetxt(n1,a1,newline=\"\\n\")\n",
    "            np.savetxt(n2,a2,newline=\"\\n\")\n",
    "\n",
    "            n1.close()\n",
    "            n2.close()\n",
    "            g.close()\n",
    "    \n",
    "        "
   ]
  },
  {
   "cell_type": "code",
   "execution_count": null,
   "id": "ddfeb0eb",
   "metadata": {},
   "outputs": [],
   "source": [
    "L=v.split()\n",
    "        V=u.split()    \n",
    "        #print(L)    \n",
    "        l1=L[2::]\n",
    "        v1=V[2::]\n",
    "        #print(l1,v1)\n",
    "        c1=[]\n",
    "        c2=[]\n",
    "        for a in l1:\n",
    "            c1.append(float(a))\n",
    "        for b in v1:\n",
    "            c2.append(float(b)) \n",
    "        print(len(c1))"
   ]
  },
  {
   "cell_type": "code",
   "execution_count": 21,
   "id": "89685767",
   "metadata": {},
   "outputs": [
    {
     "name": "stdout",
     "output_type": "stream",
     "text": [
      "0\n",
      "1\n",
      "2\n",
      "3\n",
      "4\n",
      "5\n",
      "6\n",
      "7\n",
      "8\n",
      "9\n",
      "10\n"
     ]
    }
   ],
   "source": [
    "for i in range(0,11):\n",
    "    print(i)"
   ]
  },
  {
   "cell_type": "code",
   "execution_count": null,
   "id": "e5e93625",
   "metadata": {},
   "outputs": [],
   "source": []
  }
 ],
 "metadata": {
  "kernelspec": {
   "display_name": "Python 3",
   "language": "python",
   "name": "python3"
  },
  "language_info": {
   "codemirror_mode": {
    "name": "ipython",
    "version": 3
   },
   "file_extension": ".py",
   "mimetype": "text/x-python",
   "name": "python",
   "nbconvert_exporter": "python",
   "pygments_lexer": "ipython3",
   "version": "3.8.8"
  }
 },
 "nbformat": 4,
 "nbformat_minor": 5
}
