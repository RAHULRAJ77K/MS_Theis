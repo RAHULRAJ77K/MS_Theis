{
 "cells": [
  {
   "cell_type": "code",
   "execution_count": 1,
   "id": "4d5bf2fa",
   "metadata": {},
   "outputs": [],
   "source": [
    "import numpy as np"
   ]
  },
  {
   "cell_type": "code",
   "execution_count": 2,
   "id": "0e6a45e3",
   "metadata": {},
   "outputs": [
    {
     "ename": "NameError",
     "evalue": "name 'v' is not defined",
     "output_type": "error",
     "traceback": [
      "\u001b[0;31m---------------------------------------------------------------------------\u001b[0m",
      "\u001b[0;31mNameError\u001b[0m                                 Traceback (most recent call last)",
      "\u001b[0;32m/tmp/ipykernel_9837/514768350.py\u001b[0m in \u001b[0;36m<module>\u001b[0;34m\u001b[0m\n\u001b[1;32m     14\u001b[0m             \u001b[0mv\u001b[0m\u001b[0;34m=\u001b[0m\u001b[0mp\u001b[0m\u001b[0;34m[\u001b[0m\u001b[0mj\u001b[0m\u001b[0;34m]\u001b[0m\u001b[0;34m\u001b[0m\u001b[0;34m\u001b[0m\u001b[0m\n\u001b[1;32m     15\u001b[0m             \u001b[0mu\u001b[0m\u001b[0;34m=\u001b[0m\u001b[0mp\u001b[0m\u001b[0;34m[\u001b[0m\u001b[0mj\u001b[0m\u001b[0;34m+\u001b[0m\u001b[0;36m1\u001b[0m\u001b[0;34m]\u001b[0m\u001b[0;34m\u001b[0m\u001b[0;34m\u001b[0m\u001b[0m\n\u001b[0;32m---> 16\u001b[0;31m     \u001b[0mL\u001b[0m\u001b[0;34m=\u001b[0m\u001b[0mv\u001b[0m\u001b[0;34m.\u001b[0m\u001b[0msplit\u001b[0m\u001b[0;34m(\u001b[0m\u001b[0;34m)\u001b[0m\u001b[0;34m\u001b[0m\u001b[0;34m\u001b[0m\u001b[0m\n\u001b[0m\u001b[1;32m     17\u001b[0m     \u001b[0mV\u001b[0m\u001b[0;34m=\u001b[0m\u001b[0mu\u001b[0m\u001b[0;34m.\u001b[0m\u001b[0msplit\u001b[0m\u001b[0;34m(\u001b[0m\u001b[0;34m)\u001b[0m\u001b[0;34m\u001b[0m\u001b[0;34m\u001b[0m\u001b[0m\n\u001b[1;32m     18\u001b[0m     \u001b[0ml1\u001b[0m\u001b[0;34m=\u001b[0m\u001b[0mL\u001b[0m\u001b[0;34m[\u001b[0m\u001b[0;36m2\u001b[0m\u001b[0;34m:\u001b[0m\u001b[0;34m:\u001b[0m\u001b[0;34m]\u001b[0m\u001b[0;34m\u001b[0m\u001b[0;34m\u001b[0m\u001b[0m\n",
      "\u001b[0;31mNameError\u001b[0m: name 'v' is not defined"
     ]
    }
   ],
   "source": [
    "for i in range(0,11):\n",
    "    l=\"file_x\"+str(i)+\".out\"\n",
    "    g=open(l,'r')\n",
    "    n1=open(\"X_arrayLEnth\"+str(i)+\".txt\",\"a+\")\n",
    "    n2=open(\"X_arrayVeloc\"+str(i)+\".txt\",\"a+\")\n",
    "    with g as line:\n",
    "        p=line.readlines()\n",
    "\n",
    "    j=0\n",
    "    for i in p:\n",
    "        j=j+1\n",
    "        if i=='(RSP) Electric Dipole Oscillator Strength\\n':\n",
    "            #print(i)\n",
    "            v=p[j]\n",
    "            u=p[j+1]\n",
    "    L=v.split() \n",
    "    V=u.split()\n",
    "    l1=L[2::]\n",
    "    v1=V[2::]\n",
    "    c1=[]\n",
    "    c2=[]\n",
    "    for a in l1:\n",
    "        c1.append(float(a))\n",
    "    for b in v1:\n",
    "        c2.append(float(b))    \n",
    "    a1=np.array(c1)\n",
    "    a2=np.array(c2)\n",
    "    np.savetxt(n1,a1,newline=\"\\n\")\n",
    "    np.savetxt(n2,a2,newline=\"\\n\")\n",
    "    n1.close()\n",
    "    n2.close()\n",
    "    g.close()"
   ]
  },
  {
   "cell_type": "code",
   "execution_count": null,
   "id": "12aa8e63",
   "metadata": {},
   "outputs": [],
   "source": []
  },
  {
   "cell_type": "code",
   "execution_count": null,
   "id": "91cbbd05",
   "metadata": {},
   "outputs": [],
   "source": []
  },
  {
   "cell_type": "code",
   "execution_count": null,
   "id": "c46229bf",
   "metadata": {},
   "outputs": [],
   "source": []
  },
  {
   "cell_type": "code",
   "execution_count": null,
   "id": "06350ed2",
   "metadata": {},
   "outputs": [],
   "source": []
  },
  {
   "cell_type": "code",
   "execution_count": 3,
   "id": "e6bd60c4",
   "metadata": {},
   "outputs": [],
   "source": [
    "i=2\n",
    "l=\"file_x\"+str(i)+\".out\"\n",
    "g=open(l,'r')\n",
    "n1=open(\"X_arrayLEnth\"+str(i)+\".txt\",\"a+\")\n",
    "n2=open(\"X_arrayVeloc\"+str(i)+\".txt\",\"a+\")\n",
    "with g as line:\n",
    "    p=line.readlines()\n",
    "    "
   ]
  },
  {
   "cell_type": "code",
   "execution_count": null,
   "id": "2b05b847",
   "metadata": {},
   "outputs": [],
   "source": []
  },
  {
   "cell_type": "code",
   "execution_count": null,
   "id": "86498361",
   "metadata": {},
   "outputs": [],
   "source": []
  },
  {
   "cell_type": "code",
   "execution_count": null,
   "id": "92b69444",
   "metadata": {},
   "outputs": [],
   "source": []
  },
  {
   "cell_type": "code",
   "execution_count": null,
   "id": "56133d7c",
   "metadata": {},
   "outputs": [],
   "source": []
  },
  {
   "cell_type": "code",
   "execution_count": null,
   "id": "5f0ddc87",
   "metadata": {},
   "outputs": [],
   "source": []
  },
  {
   "cell_type": "code",
   "execution_count": 4,
   "id": "1139021f",
   "metadata": {},
   "outputs": [],
   "source": [
    "j=0\n",
    "for i in p:\n",
    "    j=j+1\n",
    "    if i=='(RSP) Electric Dipole Oscillator Strength\\n':\n",
    "        #print(i)\n",
    "        v=p[j]\n",
    "        u=p[j+1]"
   ]
  },
  {
   "cell_type": "code",
   "execution_count": 5,
   "id": "69cd6559",
   "metadata": {},
   "outputs": [
    {
     "data": {
      "text/plain": [
       "'(length gauge):            \\t0.2761535250426773\\t0.1676089562049536\\t1.103332566608548e-28\\t0.1157272880873042\\t0.3501485860896474\\t\\n'"
      ]
     },
     "execution_count": 5,
     "metadata": {},
     "output_type": "execute_result"
    }
   ],
   "source": [
    "v"
   ]
  },
  {
   "cell_type": "code",
   "execution_count": 6,
   "id": "c28560c6",
   "metadata": {},
   "outputs": [
    {
     "data": {
      "text/plain": [
       "'(magnetic-velocity gauge): \\t0.2768054508515061\\t0.1672415716312072\\t5.442047144817515e-28\\t0.1069008642640234\\t0.3508001057524537\\t\\n'"
      ]
     },
     "execution_count": 6,
     "metadata": {},
     "output_type": "execute_result"
    }
   ],
   "source": [
    "u"
   ]
  },
  {
   "cell_type": "code",
   "execution_count": 7,
   "id": "b8fedcb9",
   "metadata": {},
   "outputs": [
    {
     "data": {
      "text/plain": [
       "['(length',\n",
       " 'gauge):',\n",
       " '0.2761535250426773',\n",
       " '0.1676089562049536',\n",
       " '1.103332566608548e-28',\n",
       " '0.1157272880873042',\n",
       " '0.3501485860896474']"
      ]
     },
     "execution_count": 7,
     "metadata": {},
     "output_type": "execute_result"
    }
   ],
   "source": [
    "L=v.split()\n",
    "L\n"
   ]
  },
  {
   "cell_type": "code",
   "execution_count": 8,
   "id": "323c2dec",
   "metadata": {},
   "outputs": [
    {
     "data": {
      "text/plain": [
       "['(magnetic-velocity',\n",
       " 'gauge):',\n",
       " '0.2768054508515061',\n",
       " '0.1672415716312072',\n",
       " '5.442047144817515e-28',\n",
       " '0.1069008642640234',\n",
       " '0.3508001057524537']"
      ]
     },
     "execution_count": 8,
     "metadata": {},
     "output_type": "execute_result"
    }
   ],
   "source": [
    "V=u.split()\n",
    "V"
   ]
  },
  {
   "cell_type": "code",
   "execution_count": 9,
   "id": "da7969b3",
   "metadata": {},
   "outputs": [
    {
     "data": {
      "text/plain": [
       "['0.2761535250426773',\n",
       " '0.1676089562049536',\n",
       " '1.103332566608548e-28',\n",
       " '0.1157272880873042',\n",
       " '0.3501485860896474']"
      ]
     },
     "execution_count": 9,
     "metadata": {},
     "output_type": "execute_result"
    }
   ],
   "source": [
    "l1=L[2::]\n",
    "l1"
   ]
  },
  {
   "cell_type": "code",
   "execution_count": 10,
   "id": "f9f50c5c",
   "metadata": {},
   "outputs": [
    {
     "data": {
      "text/plain": [
       "['0.2768054508515061',\n",
       " '0.1672415716312072',\n",
       " '5.442047144817515e-28',\n",
       " '0.1069008642640234',\n",
       " '0.3508001057524537']"
      ]
     },
     "execution_count": 10,
     "metadata": {},
     "output_type": "execute_result"
    }
   ],
   "source": [
    "v1=V[2::]\n",
    "v1"
   ]
  },
  {
   "cell_type": "code",
   "execution_count": 11,
   "id": "51f3bf1f",
   "metadata": {},
   "outputs": [],
   "source": [
    "c1=[]\n",
    "c2=[]"
   ]
  },
  {
   "cell_type": "code",
   "execution_count": 12,
   "id": "b78ddb1a",
   "metadata": {},
   "outputs": [],
   "source": [
    "for a in l1:\n",
    "    c1.append(float(a))"
   ]
  },
  {
   "cell_type": "code",
   "execution_count": 13,
   "id": "c563ed3e",
   "metadata": {},
   "outputs": [
    {
     "data": {
      "text/plain": [
       "[0.2761535250426773,\n",
       " 0.1676089562049536,\n",
       " 1.103332566608548e-28,\n",
       " 0.1157272880873042,\n",
       " 0.3501485860896474]"
      ]
     },
     "execution_count": 13,
     "metadata": {},
     "output_type": "execute_result"
    }
   ],
   "source": [
    "c1"
   ]
  },
  {
   "cell_type": "code",
   "execution_count": 14,
   "id": "d5ef0ea2",
   "metadata": {},
   "outputs": [],
   "source": [
    "for b in v1:\n",
    "    c2.append(float(b))"
   ]
  },
  {
   "cell_type": "code",
   "execution_count": 15,
   "id": "3e68c3c5",
   "metadata": {},
   "outputs": [
    {
     "data": {
      "text/plain": [
       "[0.2768054508515061,\n",
       " 0.1672415716312072,\n",
       " 5.442047144817515e-28,\n",
       " 0.1069008642640234,\n",
       " 0.3508001057524537]"
      ]
     },
     "execution_count": 15,
     "metadata": {},
     "output_type": "execute_result"
    }
   ],
   "source": [
    "c2"
   ]
  },
  {
   "cell_type": "code",
   "execution_count": 16,
   "id": "61820125",
   "metadata": {},
   "outputs": [],
   "source": [
    "a1=np.array(c1)\n",
    "a2=np.array(c2)"
   ]
  },
  {
   "cell_type": "code",
   "execution_count": 17,
   "id": "ab9e4d45",
   "metadata": {},
   "outputs": [],
   "source": [
    "np.savetxt(n1,a1,newline=\"\\n\")\n",
    "np.savetxt(n2,a2,newline=\"\\n\")"
   ]
  },
  {
   "cell_type": "code",
   "execution_count": 18,
   "id": "1aa660a7",
   "metadata": {},
   "outputs": [],
   "source": [
    "n1.close()\n",
    "n2.close()\n",
    "g.close()"
   ]
  },
  {
   "cell_type": "code",
   "execution_count": null,
   "id": "9147908c",
   "metadata": {},
   "outputs": [],
   "source": []
  },
  {
   "cell_type": "code",
   "execution_count": null,
   "id": "e1013a78",
   "metadata": {},
   "outputs": [],
   "source": []
  },
  {
   "cell_type": "code",
   "execution_count": null,
   "id": "77218e60",
   "metadata": {},
   "outputs": [],
   "source": []
  },
  {
   "cell_type": "code",
   "execution_count": null,
   "id": "8677d47a",
   "metadata": {},
   "outputs": [],
   "source": []
  },
  {
   "cell_type": "code",
   "execution_count": null,
   "id": "0e1e1b45",
   "metadata": {},
   "outputs": [],
   "source": []
  }
 ],
 "metadata": {
  "kernelspec": {
   "display_name": "Python 3 (ipykernel)",
   "language": "python",
   "name": "python3"
  },
  "language_info": {
   "codemirror_mode": {
    "name": "ipython",
    "version": 3
   },
   "file_extension": ".py",
   "mimetype": "text/x-python",
   "name": "python",
   "nbconvert_exporter": "python",
   "pygments_lexer": "ipython3",
   "version": "3.9.7"
  }
 },
 "nbformat": 4,
 "nbformat_minor": 5
}
